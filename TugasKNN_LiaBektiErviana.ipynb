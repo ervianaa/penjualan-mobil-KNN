{
  "nbformat": 4,
  "nbformat_minor": 0,
  "metadata": {
    "colab": {
      "provenance": [],
      "authorship_tag": "ABX9TyOJ02FDaKtynHSQPLIoXmAo",
      "include_colab_link": true
    },
    "kernelspec": {
      "name": "python3",
      "display_name": "Python 3"
    },
    "language_info": {
      "name": "python"
    }
  },
  "cells": [
    {
      "cell_type": "markdown",
      "metadata": {
        "id": "view-in-github",
        "colab_type": "text"
      },
      "source": [
        "<a href=\"https://colab.research.google.com/github/ervianaa/penjualan-mobil-KNN/blob/main/TugasKNN_LiaBektiErviana.ipynb\" target=\"_parent\"><img src=\"https://colab.research.google.com/assets/colab-badge.svg\" alt=\"Open In Colab\"/></a>"
      ]
    },
    {
      "cell_type": "code",
      "execution_count": 1,
      "metadata": {
        "id": "CPojGIP27q55"
      },
      "outputs": [],
      "source": [
        "import numpy as np\n",
        "import matplotlib.pyplot as plt\n",
        "import pandas as pd"
      ]
    },
    {
      "cell_type": "code",
      "source": [
        "dataset = pd.read_csv(\"penjualan_mobil.csv\", sep=\";\")\n",
        "print(dataset.head())"
      ],
      "metadata": {
        "colab": {
          "base_uri": "https://localhost:8080/"
        },
        "id": "hFL148l5_FyT",
        "outputId": "f015d9b0-0d8d-4906-9ebe-372c8b775866"
      },
      "execution_count": 2,
      "outputs": [
        {
          "output_type": "stream",
          "name": "stdout",
          "text": [
            "   Tahun_Produksi  Kilometer  Harga_Mobil  Jumlah_Pemilik  Umur_Mobil  Laku\n",
            "0            2006     196892       293548               1          17     0\n",
            "1            2019      72623       228047               3          17     0\n",
            "2            2014      85450       333501               2          20     1\n",
            "3            2010     103426       169121               1          16     1\n",
            "4            2007     127845       127505               2          22     0\n"
          ]
        }
      ]
    },
    {
      "cell_type": "code",
      "source": [
        "x = dataset.iloc[:, [0, 1]].values  # Mengambil kolom Tahun_Produksi dan Kilometer\n",
        "y = dataset.iloc[:, -1].values      # Mengambil kolom Laku"
      ],
      "metadata": {
        "id": "mgT77dwq_KOq"
      },
      "execution_count": 3,
      "outputs": []
    },
    {
      "cell_type": "code",
      "source": [
        "print(x)"
      ],
      "metadata": {
        "colab": {
          "base_uri": "https://localhost:8080/"
        },
        "id": "YiwD7mLG_RGt",
        "outputId": "9ff2c8fe-d44b-43f7-8665-22dc399ef9a5"
      },
      "execution_count": 4,
      "outputs": [
        {
          "output_type": "stream",
          "name": "stdout",
          "text": [
            "[[  2006 196892]\n",
            " [  2019  72623]\n",
            " [  2014  85450]\n",
            " [  2010 103426]\n",
            " [  2007 127845]\n",
            " [  2020 163371]\n",
            " [  2006  53585]\n",
            " [  2018 119225]\n",
            " [  2022  74044]\n",
            " [  2010 183629]\n",
            " [  2010 190152]\n",
            " [  2020 119556]\n",
            " [  2003  12693]\n",
            " [  2007 105259]\n",
            " [  2002  35939]\n",
            " [  2021 189997]\n",
            " [  2020 184013]\n",
            " [  2001 162906]\n",
            " [  2011  28047]\n",
            " [  2005  36105]\n",
            " [  2001  85766]\n",
            " [  2020 156779]\n",
            " [  2000 163048]\n",
            " [  2011  54262]\n",
            " [  2021 135117]\n",
            " [  2011  33776]\n",
            " [  2016 171152]\n",
            " [  2009 138376]\n",
            " [  2015 147848]\n",
            " [  2014 102787]\n",
            " [  2014 137948]\n",
            " [  2018  65016]\n",
            " [  2011 150546]\n",
            " [  2022 199125]\n",
            " [  2019  31959]\n",
            " [  2002 146602]\n",
            " [  2004 129101]\n",
            " [  2018  13748]\n",
            " [  2006  23545]\n",
            " [  2020 137659]\n",
            " [  2008 175838]\n",
            " [  2006  83530]\n",
            " [  2017 103557]\n",
            " [  2003  71087]\n",
            " [  2013  78840]\n",
            " [  2017 128451]\n",
            " [  2008 195456]\n",
            " [  2020  61005]\n",
            " [  2001 187648]\n",
            " [  2019  49353]\n",
            " [  2014  62733]\n",
            " [  2006  75318]\n",
            " [  2011 164736]\n",
            " [  2007  77172]\n",
            " [  2014 103264]\n",
            " [  2002  36736]\n",
            " [  2013 122859]\n",
            " [  2016 122181]\n",
            " [  2003 141926]\n",
            " [  2017 100084]\n",
            " [  2007 179695]\n",
            " [  2003  17392]\n",
            " [  2001  65680]\n",
            " [  2005 187789]\n",
            " [  2021  60859]\n",
            " [  2009 135657]\n",
            " [  2003 167381]\n",
            " [  2021  80467]\n",
            " [  2017 193734]\n",
            " [  2011 108506]\n",
            " [  2001 119751]\n",
            " [  2009 128906]\n",
            " [  2003 153760]\n",
            " [  2013  35342]\n",
            " [  2015 178229]\n",
            " [  2014 116308]\n",
            " [  2007 193155]\n",
            " [  2013 116081]\n",
            " [  2022  99045]\n",
            " [  2007  44698]\n",
            " [  2020 120078]\n",
            " [  2015  90623]\n",
            " [  2012  32671]\n",
            " [  2017 166256]\n",
            " [  2014 103384]\n",
            " [  2020 183179]\n",
            " [  2012  96202]\n",
            " [  2008  61663]\n",
            " [  2014  25708]\n",
            " [  2012 101906]\n",
            " [  2000  59811]\n",
            " [  2006 143883]\n",
            " [  2008  66250]\n",
            " [  2000 122547]\n",
            " [  2011 134249]\n",
            " [  2007  44754]\n",
            " [  2010 152483]\n",
            " [  2018 143983]\n",
            " [  2016 149752]\n",
            " [  2007  94896]\n",
            " [  2002  81295]\n",
            " [  2002 110689]\n",
            " [  2000  21111]\n",
            " [  2004  47504]\n",
            " [  2009 142874]\n",
            " [  2006  18155]\n",
            " [  2008  49384]\n",
            " [  2006 122561]\n",
            " [  2008  57254]\n",
            " [  2007  31918]\n",
            " [  2011  95981]\n",
            " [  2001  40306]\n",
            " [  2000 157718]\n",
            " [  2015  56843]\n",
            " [  2022 130975]\n",
            " [  2022 106601]\n",
            " [  2004 117512]\n",
            " [  2002 157443]\n",
            " [  2011 121472]\n",
            " [  2007 143121]\n",
            " [  2021 172688]\n",
            " [  2002 113727]\n",
            " [  2000 122893]\n",
            " [  2002  30932]\n",
            " [  2004 127796]\n",
            " [  2014  39855]\n",
            " [  2013 184088]\n",
            " [  2002  17400]\n",
            " [  2000 127858]\n",
            " [  2004 183714]\n",
            " [  2022  25151]\n",
            " [  2013 192479]\n",
            " [  2006  76690]\n",
            " [  2008  14499]\n",
            " [  2014  16295]\n",
            " [  2014 130885]\n",
            " [  2009 136071]\n",
            " [  2012  69040]\n",
            " [  2018  22183]\n",
            " [  2006 170371]\n",
            " [  2016 153946]\n",
            " [  2019 126336]\n",
            " [  2003  42711]\n",
            " [  2004  15539]\n",
            " [  2022 194423]\n",
            " [  2006 189426]\n",
            " [  2012 136063]\n",
            " [  2014 143629]\n",
            " [  2010  48360]\n",
            " [  2003 143272]]\n"
          ]
        }
      ]
    },
    {
      "cell_type": "code",
      "source": [
        "print(y)"
      ],
      "metadata": {
        "colab": {
          "base_uri": "https://localhost:8080/"
        },
        "id": "McGGmpEE_Un0",
        "outputId": "3667c48b-840f-45c7-a73e-0ab25db913c3"
      },
      "execution_count": 5,
      "outputs": [
        {
          "output_type": "stream",
          "name": "stdout",
          "text": [
            "[0 0 1 1 0 1 0 0 0 1 1 1 1 1 0 0 0 0 1 0 1 0 1 1 0 0 0 0 1 0 0 1 0 0 0 0 0\n",
            " 1 0 0 0 0 0 1 0 1 1 0 0 0 0 1 0 0 0 0 0 0 1 1 0 0 0 1 0 1 0 0 0 0 1 1 0 0\n",
            " 1 1 1 1 0 1 0 1 1 1 1 1 0 0 1 1 0 1 1 0 1 1 0 0 0 1 0 0 0 0 0 0 1 1 0 0 0\n",
            " 1 1 1 1 1 1 1 1 1 0 0 0 0 1 1 0 1 0 1 0 1 1 0 1 0 0 0 0 1 1 1 0 1 0 1 1 1\n",
            " 0 1]\n"
          ]
        }
      ]
    },
    {
      "cell_type": "code",
      "source": [
        "print(len(x))"
      ],
      "metadata": {
        "colab": {
          "base_uri": "https://localhost:8080/"
        },
        "id": "Nekex2LC_1bR",
        "outputId": "7ad608bd-28ba-47b9-8885-fea29763e86f"
      },
      "execution_count": 6,
      "outputs": [
        {
          "output_type": "stream",
          "name": "stdout",
          "text": [
            "150\n"
          ]
        }
      ]
    },
    {
      "cell_type": "code",
      "source": [
        "print(len(y))"
      ],
      "metadata": {
        "colab": {
          "base_uri": "https://localhost:8080/"
        },
        "id": "CogKroBG_5nO",
        "outputId": "29c85c20-fbcd-4276-9497-af5115086079"
      },
      "execution_count": 7,
      "outputs": [
        {
          "output_type": "stream",
          "name": "stdout",
          "text": [
            "150\n"
          ]
        }
      ]
    },
    {
      "cell_type": "code",
      "source": [
        "from sklearn.model_selection import train_test_split\n",
        "x_latih, x_tes, y_latih, y_tes = train_test_split(x, y, test_size=0.25, random_state=0)"
      ],
      "metadata": {
        "id": "HnjU2gub_9dz"
      },
      "execution_count": 8,
      "outputs": []
    },
    {
      "cell_type": "code",
      "source": [
        "print(x_tes)"
      ],
      "metadata": {
        "colab": {
          "base_uri": "https://localhost:8080/"
        },
        "id": "U9BGTZZ1ASc-",
        "outputId": "efe9058a-26d6-48ae-dabf-18a07cb7b10c"
      },
      "execution_count": 9,
      "outputs": [
        {
          "output_type": "stream",
          "name": "stdout",
          "text": [
            "[[  2022 130975]\n",
            " [  2001  65680]\n",
            " [  2022 199125]\n",
            " [  2006 122561]\n",
            " [  2018 119225]\n",
            " [  2002  81295]\n",
            " [  2008 175838]\n",
            " [  2012  96202]\n",
            " [  2007 193155]\n",
            " [  2009 128906]\n",
            " [  2014  16295]\n",
            " [  2006  75318]\n",
            " [  2013  35342]\n",
            " [  2014 103264]\n",
            " [  2005 187789]\n",
            " [  2018  13748]\n",
            " [  2022  99045]\n",
            " [  2000  59811]\n",
            " [  2017 128451]\n",
            " [  2020 184013]\n",
            " [  2002 113727]\n",
            " [  2003 167381]\n",
            " [  2021 135117]\n",
            " [  2022  74044]\n",
            " [  2013 184088]\n",
            " [  2000 163048]\n",
            " [  2013  78840]\n",
            " [  2018 143983]\n",
            " [  2000 122547]\n",
            " [  2016 171152]\n",
            " [  2012  69040]\n",
            " [  2014 103384]\n",
            " [  2009 138376]\n",
            " [  2002  17400]\n",
            " [  2006  76690]\n",
            " [  2017 100084]\n",
            " [  2011  28047]\n",
            " [  2017 166256]]\n"
          ]
        }
      ]
    },
    {
      "cell_type": "code",
      "source": [
        "print(len(x_latih))"
      ],
      "metadata": {
        "colab": {
          "base_uri": "https://localhost:8080/"
        },
        "id": "Thu55nOtAYfu",
        "outputId": "f0eb229a-9123-4243-98cd-4b2f192939de"
      },
      "execution_count": 10,
      "outputs": [
        {
          "output_type": "stream",
          "name": "stdout",
          "text": [
            "112\n"
          ]
        }
      ]
    },
    {
      "cell_type": "code",
      "source": [
        "print(len(x_tes))"
      ],
      "metadata": {
        "colab": {
          "base_uri": "https://localhost:8080/"
        },
        "id": "Lv1D6i4cAccA",
        "outputId": "e4931aea-33d4-492a-cd01-6df468794205"
      },
      "execution_count": 11,
      "outputs": [
        {
          "output_type": "stream",
          "name": "stdout",
          "text": [
            "38\n"
          ]
        }
      ]
    },
    {
      "cell_type": "code",
      "source": [
        "from sklearn.preprocessing import StandardScaler\n",
        "sc = StandardScaler()\n",
        "x_latih = sc.fit_transform(x_latih)\n",
        "x_tes = sc.transform(x_tes)"
      ],
      "metadata": {
        "id": "FTualgXxAi3Q"
      },
      "execution_count": 12,
      "outputs": []
    },
    {
      "cell_type": "code",
      "source": [
        "print (x_latih)"
      ],
      "metadata": {
        "colab": {
          "base_uri": "https://localhost:8080/"
        },
        "id": "0CWCv7q2BIwD",
        "outputId": "d9f9d201-8bcd-4789-d649-716e752dbfa0"
      },
      "execution_count": 13,
      "outputs": [
        {
          "output_type": "stream",
          "name": "stdout",
          "text": [
            "[[-1.11799905e+00 -1.61529396e+00]\n",
            " [-3.35399716e-01 -7.17864895e-01]\n",
            " [-1.58755865e+00  9.62229296e-01]\n",
            " [ 6.03719488e-01 -3.65197203e-01]\n",
            " [ 1.38631882e+00  3.85801301e-01]\n",
            " [-1.11799905e+00 -6.29018352e-01]\n",
            " [-2.23599810e-02  1.55798054e+00]\n",
            " [-4.91919583e-01  1.36590523e+00]\n",
            " [-9.61479185e-01  2.23721107e-01]\n",
            " [ 1.85587843e+00  1.63643074e+00]\n",
            " [-4.91919583e-01  6.94110010e-01]\n",
            " [-3.35399716e-01 -8.83104403e-01]\n",
            " [ 1.34159886e-01  5.82979179e-02]\n",
            " [ 6.03719488e-01  4.69357828e-01]\n",
            " [ 4.47199621e-01  3.21935386e-01]\n",
            " [ 1.54283869e+00  2.70853675e-01]\n",
            " [-1.27451892e+00 -1.36658977e+00]\n",
            " [-3.35399716e-01 -1.66843290e+00]\n",
            " [-3.35399716e-01 -1.02766142e+00]\n",
            " [ 2.90679753e-01  5.64467897e-01]\n",
            " [ 6.03719488e-01 -7.82465534e-01]\n",
            " [ 6.03719488e-01  7.03441009e-01]\n",
            " [ 1.54283869e+00  1.42989972e+00]\n",
            " [ 6.03719488e-01  5.99091782e-01]\n",
            " [-1.27451892e+00  9.83954997e-02]\n",
            " [ 1.34159886e-01  5.31148147e-01]\n",
            " [ 1.69935856e+00 -8.16887370e-01]\n",
            " [ 2.90679753e-01 -6.29316013e-02]\n",
            " [-6.48439450e-01  7.08106509e-01]\n",
            " [ 6.03719488e-01 -1.20269113e+00]\n",
            " [-1.43103879e+00  1.51198680e+00]\n",
            " [-4.91919583e-01 -1.34333197e-03]\n",
            " [-1.43103879e+00 -1.19440711e+00]\n",
            " [-4.91919583e-01 -1.11270577e+00]\n",
            " [-1.43103879e+00 -3.59392880e-01]\n",
            " [ 1.69935856e+00  1.55513349e+00]\n",
            " [ 1.34159886e-01  1.09113669e+00]\n",
            " [-2.23599810e-02 -3.50120757e-02]\n",
            " [-1.11799905e+00  6.96883594e-01]\n",
            " [ 9.16759222e-01  8.15908940e-01]\n",
            " [-6.48439450e-01 -9.50496995e-01]\n",
            " [ 1.07327909e+00  1.62377511e+00]\n",
            " [-4.91919583e-01 -1.34847881e+00]\n",
            " [-2.23599810e-02  8.66072246e-01]\n",
            " [-1.11799905e+00 -1.70160571e+00]\n",
            " [-1.58755865e+00 -1.54698297e+00]\n",
            " [ 1.69935856e+00  1.23719989e+00]\n",
            " [-1.78879848e-01  6.89573087e-01]\n",
            " [-1.58755865e+00  4.13757563e-01]\n",
            " [-3.35399716e-01  1.65540499e+00]\n",
            " [ 1.54283869e+00  2.61265522e-01]\n",
            " [ 1.34159886e-01 -1.71762647e-01]\n",
            " [-9.61479185e-01  4.12618740e-01]\n",
            " [-6.48439450e-01 -4.00463972e-01]\n",
            " [-2.23599810e-02 -1.04647036e+00]\n",
            " [ 1.38631882e+00 -6.00804936e-01]\n",
            " [ 7.60239355e-01 -8.90653696e-01]\n",
            " [-6.48439450e-01  1.19464098e+00]\n",
            " [ 1.07327909e+00 -3.26058534e-02]\n",
            " [-4.91919583e-01  4.13518777e-01]\n",
            " [-9.61479185e-01  1.43972666e+00]\n",
            " [-1.43103879e+00  1.05752305e+00]\n",
            " [-6.48439450e-01 -1.50227499e+00]\n",
            " [ 1.54283869e+00  1.06606422e+00]\n",
            " [-4.91919583e-01 -5.17248409e-01]\n",
            " [-9.61479185e-01 -1.64933007e+00]\n",
            " [-6.48439450e-01 -1.60127910e+00]\n",
            " [-6.48439450e-01  1.68178160e+00]\n",
            " [ 1.38631882e+00 -1.34772572e+00]\n",
            " [ 7.60239355e-01  7.80936061e-01]\n",
            " [-1.27451892e+00 -1.25998126e+00]\n",
            " [ 6.03719488e-01  2.01605904e-01]\n",
            " [-1.27451892e+00  7.58049397e-01]\n",
            " [ 1.34159886e-01 -9.38061785e-01]\n",
            " [ 7.60239355e-01  1.33897758e+00]\n",
            " [ 1.22979896e+00 -7.40531141e-01]\n",
            " [ 1.34159886e-01  2.96458819e-01]\n",
            " [ 9.16759222e-01  3.09481808e-01]\n",
            " [ 4.47199621e-01  1.60072313e+00]\n",
            " [-1.78879848e-01  5.57010444e-01]\n",
            " [ 1.34159886e-01  8.30493219e-01]\n",
            " [ 1.22979896e+00 -1.52729235e+00]\n",
            " [-1.27451892e+00 -1.27462065e+00]\n",
            " [-1.58755865e+00  3.22559902e-01]\n",
            " [-8.04959317e-01 -1.27157154e+00]\n",
            " [ 6.03719488e-01 -4.67492973e-02]\n",
            " [ 1.85587843e+00 -1.47277581e+00]\n",
            " [ 1.38631882e+00 -1.02823083e+00]\n",
            " [-1.78879848e-01  5.64614842e-01]\n",
            " [-4.91919583e-01 -1.91692045e-01]\n",
            " [ 2.90679753e-01 -1.33464763e+00]\n",
            " [-4.91919583e-01 -1.11373438e+00]\n",
            " [ 1.85587843e+00  2.33066703e-02]\n",
            " [-6.48439450e-01  1.54464530e+00]\n",
            " [-1.11799905e+00  8.89528321e-01]\n",
            " [ 4.47199621e-01  1.97436343e-01]\n",
            " [ 1.34159886e-01 -1.31435087e+00]\n",
            " [ 7.60239355e-01 -2.70178975e-01]\n",
            " [ 9.16759222e-01  8.92944789e-01]\n",
            " [-1.11799905e+00 -1.15023181e+00]\n",
            " [ 1.54283869e+00  5.93783399e-01]\n",
            " [-1.11799905e+00  6.72160120e-01]\n",
            " [ 6.03719488e-01 -1.46254477e+00]\n",
            " [-1.43103879e+00  2.64847303e-01]\n",
            " [-3.35399716e-01 -8.02119411e-01]\n",
            " [-9.61479185e-01  4.36589122e-01]\n",
            " [ 1.54283869e+00  9.44981642e-01]\n",
            " [-2.23599810e-02  1.43816537e+00]\n",
            " [-9.61479185e-01 -1.06219347e+00]\n",
            " [ 1.69935856e+00 -4.56725490e-01]\n",
            " [-1.27451892e+00  9.57178066e-01]\n",
            " [ 1.54283869e+00 -8.14205626e-01]]\n"
          ]
        }
      ]
    },
    {
      "cell_type": "code",
      "source": [
        "print (x_tes)"
      ],
      "metadata": {
        "colab": {
          "base_uri": "https://localhost:8080/"
        },
        "id": "3xodZfnmBK56",
        "outputId": "9c649045-02aa-4cc7-e182-7fc2f887b74a"
      },
      "execution_count": 14,
      "outputs": [
        {
          "output_type": "stream",
          "name": "stdout",
          "text": [
            "[[ 1.85587843  0.47101096]\n",
            " [-1.43103879 -0.72833472]\n",
            " [ 1.85587843  1.72279758]\n",
            " [-0.64843945  0.31646169]\n",
            " [ 1.22979896  0.25518568]\n",
            " [-1.27451892 -0.4415167 ]\n",
            " [-0.33539972  1.29505943]\n",
            " [ 0.29067975 -0.16770329]\n",
            " [-0.49191958  1.61313997]\n",
            " [-0.17887985  0.43300734]\n",
            " [ 0.60371949 -1.63544378]\n",
            " [-0.64843945 -0.55130288]\n",
            " [ 0.44719962 -1.28558641]\n",
            " [ 0.60371949 -0.03798771]\n",
            " [-0.80495932  1.5145767 ]\n",
            " [ 1.22979896 -1.68222735]\n",
            " [ 1.85587843 -0.11548276]\n",
            " [-1.58755865 -0.83613715]\n",
            " [ 1.07327909  0.42464985]\n",
            " [ 1.54283869  1.44521872]\n",
            " [-1.27451892  0.15419781]\n",
            " [-1.11799905  1.13972033]\n",
            " [ 1.69935856  0.54709167]\n",
            " [ 1.85587843 -0.57470385]\n",
            " [ 0.44719962  1.44659633]\n",
            " [-1.58755865  1.06013132]\n",
            " [ 0.44719962 -0.4866104 ]\n",
            " [ 1.22979896  0.70994332]\n",
            " [-1.58755865  0.31620454]\n",
            " [ 0.91675922  1.20898647]\n",
            " [ 0.29067975 -0.66661787]\n",
            " [ 0.60371949 -0.03578354]\n",
            " [-0.17887985  0.60695333]\n",
            " [-1.27451892 -1.61514702]\n",
            " [-0.64843945 -0.52610184]\n",
            " [ 1.07327909 -0.0963983 ]\n",
            " [ 0.13415989 -1.41958176]\n",
            " [ 1.07327909  1.11905621]]\n"
          ]
        }
      ]
    },
    {
      "cell_type": "code",
      "source": [
        "from sklearn.neighbors import KNeighborsClassifier\n",
        "classifier = KNeighborsClassifier(n_neighbors=5, metric='minkowski', p=2)\n",
        "classifier.fit(x_latih, y_latih)"
      ],
      "metadata": {
        "colab": {
          "base_uri": "https://localhost:8080/",
          "height": 80
        },
        "id": "JOAimu61A_hV",
        "outputId": "cfca5960-fa23-4ddb-efce-88c34d1c4d50"
      },
      "execution_count": 15,
      "outputs": [
        {
          "output_type": "execute_result",
          "data": {
            "text/plain": [
              "KNeighborsClassifier()"
            ],
            "text/html": [
              "<style>#sk-container-id-1 {\n",
              "  /* Definition of color scheme common for light and dark mode */\n",
              "  --sklearn-color-text: #000;\n",
              "  --sklearn-color-text-muted: #666;\n",
              "  --sklearn-color-line: gray;\n",
              "  /* Definition of color scheme for unfitted estimators */\n",
              "  --sklearn-color-unfitted-level-0: #fff5e6;\n",
              "  --sklearn-color-unfitted-level-1: #f6e4d2;\n",
              "  --sklearn-color-unfitted-level-2: #ffe0b3;\n",
              "  --sklearn-color-unfitted-level-3: chocolate;\n",
              "  /* Definition of color scheme for fitted estimators */\n",
              "  --sklearn-color-fitted-level-0: #f0f8ff;\n",
              "  --sklearn-color-fitted-level-1: #d4ebff;\n",
              "  --sklearn-color-fitted-level-2: #b3dbfd;\n",
              "  --sklearn-color-fitted-level-3: cornflowerblue;\n",
              "\n",
              "  /* Specific color for light theme */\n",
              "  --sklearn-color-text-on-default-background: var(--sg-text-color, var(--theme-code-foreground, var(--jp-content-font-color1, black)));\n",
              "  --sklearn-color-background: var(--sg-background-color, var(--theme-background, var(--jp-layout-color0, white)));\n",
              "  --sklearn-color-border-box: var(--sg-text-color, var(--theme-code-foreground, var(--jp-content-font-color1, black)));\n",
              "  --sklearn-color-icon: #696969;\n",
              "\n",
              "  @media (prefers-color-scheme: dark) {\n",
              "    /* Redefinition of color scheme for dark theme */\n",
              "    --sklearn-color-text-on-default-background: var(--sg-text-color, var(--theme-code-foreground, var(--jp-content-font-color1, white)));\n",
              "    --sklearn-color-background: var(--sg-background-color, var(--theme-background, var(--jp-layout-color0, #111)));\n",
              "    --sklearn-color-border-box: var(--sg-text-color, var(--theme-code-foreground, var(--jp-content-font-color1, white)));\n",
              "    --sklearn-color-icon: #878787;\n",
              "  }\n",
              "}\n",
              "\n",
              "#sk-container-id-1 {\n",
              "  color: var(--sklearn-color-text);\n",
              "}\n",
              "\n",
              "#sk-container-id-1 pre {\n",
              "  padding: 0;\n",
              "}\n",
              "\n",
              "#sk-container-id-1 input.sk-hidden--visually {\n",
              "  border: 0;\n",
              "  clip: rect(1px 1px 1px 1px);\n",
              "  clip: rect(1px, 1px, 1px, 1px);\n",
              "  height: 1px;\n",
              "  margin: -1px;\n",
              "  overflow: hidden;\n",
              "  padding: 0;\n",
              "  position: absolute;\n",
              "  width: 1px;\n",
              "}\n",
              "\n",
              "#sk-container-id-1 div.sk-dashed-wrapped {\n",
              "  border: 1px dashed var(--sklearn-color-line);\n",
              "  margin: 0 0.4em 0.5em 0.4em;\n",
              "  box-sizing: border-box;\n",
              "  padding-bottom: 0.4em;\n",
              "  background-color: var(--sklearn-color-background);\n",
              "}\n",
              "\n",
              "#sk-container-id-1 div.sk-container {\n",
              "  /* jupyter's `normalize.less` sets `[hidden] { display: none; }`\n",
              "     but bootstrap.min.css set `[hidden] { display: none !important; }`\n",
              "     so we also need the `!important` here to be able to override the\n",
              "     default hidden behavior on the sphinx rendered scikit-learn.org.\n",
              "     See: https://github.com/scikit-learn/scikit-learn/issues/21755 */\n",
              "  display: inline-block !important;\n",
              "  position: relative;\n",
              "}\n",
              "\n",
              "#sk-container-id-1 div.sk-text-repr-fallback {\n",
              "  display: none;\n",
              "}\n",
              "\n",
              "div.sk-parallel-item,\n",
              "div.sk-serial,\n",
              "div.sk-item {\n",
              "  /* draw centered vertical line to link estimators */\n",
              "  background-image: linear-gradient(var(--sklearn-color-text-on-default-background), var(--sklearn-color-text-on-default-background));\n",
              "  background-size: 2px 100%;\n",
              "  background-repeat: no-repeat;\n",
              "  background-position: center center;\n",
              "}\n",
              "\n",
              "/* Parallel-specific style estimator block */\n",
              "\n",
              "#sk-container-id-1 div.sk-parallel-item::after {\n",
              "  content: \"\";\n",
              "  width: 100%;\n",
              "  border-bottom: 2px solid var(--sklearn-color-text-on-default-background);\n",
              "  flex-grow: 1;\n",
              "}\n",
              "\n",
              "#sk-container-id-1 div.sk-parallel {\n",
              "  display: flex;\n",
              "  align-items: stretch;\n",
              "  justify-content: center;\n",
              "  background-color: var(--sklearn-color-background);\n",
              "  position: relative;\n",
              "}\n",
              "\n",
              "#sk-container-id-1 div.sk-parallel-item {\n",
              "  display: flex;\n",
              "  flex-direction: column;\n",
              "}\n",
              "\n",
              "#sk-container-id-1 div.sk-parallel-item:first-child::after {\n",
              "  align-self: flex-end;\n",
              "  width: 50%;\n",
              "}\n",
              "\n",
              "#sk-container-id-1 div.sk-parallel-item:last-child::after {\n",
              "  align-self: flex-start;\n",
              "  width: 50%;\n",
              "}\n",
              "\n",
              "#sk-container-id-1 div.sk-parallel-item:only-child::after {\n",
              "  width: 0;\n",
              "}\n",
              "\n",
              "/* Serial-specific style estimator block */\n",
              "\n",
              "#sk-container-id-1 div.sk-serial {\n",
              "  display: flex;\n",
              "  flex-direction: column;\n",
              "  align-items: center;\n",
              "  background-color: var(--sklearn-color-background);\n",
              "  padding-right: 1em;\n",
              "  padding-left: 1em;\n",
              "}\n",
              "\n",
              "\n",
              "/* Toggleable style: style used for estimator/Pipeline/ColumnTransformer box that is\n",
              "clickable and can be expanded/collapsed.\n",
              "- Pipeline and ColumnTransformer use this feature and define the default style\n",
              "- Estimators will overwrite some part of the style using the `sk-estimator` class\n",
              "*/\n",
              "\n",
              "/* Pipeline and ColumnTransformer style (default) */\n",
              "\n",
              "#sk-container-id-1 div.sk-toggleable {\n",
              "  /* Default theme specific background. It is overwritten whether we have a\n",
              "  specific estimator or a Pipeline/ColumnTransformer */\n",
              "  background-color: var(--sklearn-color-background);\n",
              "}\n",
              "\n",
              "/* Toggleable label */\n",
              "#sk-container-id-1 label.sk-toggleable__label {\n",
              "  cursor: pointer;\n",
              "  display: flex;\n",
              "  width: 100%;\n",
              "  margin-bottom: 0;\n",
              "  padding: 0.5em;\n",
              "  box-sizing: border-box;\n",
              "  text-align: center;\n",
              "  align-items: start;\n",
              "  justify-content: space-between;\n",
              "  gap: 0.5em;\n",
              "}\n",
              "\n",
              "#sk-container-id-1 label.sk-toggleable__label .caption {\n",
              "  font-size: 0.6rem;\n",
              "  font-weight: lighter;\n",
              "  color: var(--sklearn-color-text-muted);\n",
              "}\n",
              "\n",
              "#sk-container-id-1 label.sk-toggleable__label-arrow:before {\n",
              "  /* Arrow on the left of the label */\n",
              "  content: \"▸\";\n",
              "  float: left;\n",
              "  margin-right: 0.25em;\n",
              "  color: var(--sklearn-color-icon);\n",
              "}\n",
              "\n",
              "#sk-container-id-1 label.sk-toggleable__label-arrow:hover:before {\n",
              "  color: var(--sklearn-color-text);\n",
              "}\n",
              "\n",
              "/* Toggleable content - dropdown */\n",
              "\n",
              "#sk-container-id-1 div.sk-toggleable__content {\n",
              "  max-height: 0;\n",
              "  max-width: 0;\n",
              "  overflow: hidden;\n",
              "  text-align: left;\n",
              "  /* unfitted */\n",
              "  background-color: var(--sklearn-color-unfitted-level-0);\n",
              "}\n",
              "\n",
              "#sk-container-id-1 div.sk-toggleable__content.fitted {\n",
              "  /* fitted */\n",
              "  background-color: var(--sklearn-color-fitted-level-0);\n",
              "}\n",
              "\n",
              "#sk-container-id-1 div.sk-toggleable__content pre {\n",
              "  margin: 0.2em;\n",
              "  border-radius: 0.25em;\n",
              "  color: var(--sklearn-color-text);\n",
              "  /* unfitted */\n",
              "  background-color: var(--sklearn-color-unfitted-level-0);\n",
              "}\n",
              "\n",
              "#sk-container-id-1 div.sk-toggleable__content.fitted pre {\n",
              "  /* unfitted */\n",
              "  background-color: var(--sklearn-color-fitted-level-0);\n",
              "}\n",
              "\n",
              "#sk-container-id-1 input.sk-toggleable__control:checked~div.sk-toggleable__content {\n",
              "  /* Expand drop-down */\n",
              "  max-height: 200px;\n",
              "  max-width: 100%;\n",
              "  overflow: auto;\n",
              "}\n",
              "\n",
              "#sk-container-id-1 input.sk-toggleable__control:checked~label.sk-toggleable__label-arrow:before {\n",
              "  content: \"▾\";\n",
              "}\n",
              "\n",
              "/* Pipeline/ColumnTransformer-specific style */\n",
              "\n",
              "#sk-container-id-1 div.sk-label input.sk-toggleable__control:checked~label.sk-toggleable__label {\n",
              "  color: var(--sklearn-color-text);\n",
              "  background-color: var(--sklearn-color-unfitted-level-2);\n",
              "}\n",
              "\n",
              "#sk-container-id-1 div.sk-label.fitted input.sk-toggleable__control:checked~label.sk-toggleable__label {\n",
              "  background-color: var(--sklearn-color-fitted-level-2);\n",
              "}\n",
              "\n",
              "/* Estimator-specific style */\n",
              "\n",
              "/* Colorize estimator box */\n",
              "#sk-container-id-1 div.sk-estimator input.sk-toggleable__control:checked~label.sk-toggleable__label {\n",
              "  /* unfitted */\n",
              "  background-color: var(--sklearn-color-unfitted-level-2);\n",
              "}\n",
              "\n",
              "#sk-container-id-1 div.sk-estimator.fitted input.sk-toggleable__control:checked~label.sk-toggleable__label {\n",
              "  /* fitted */\n",
              "  background-color: var(--sklearn-color-fitted-level-2);\n",
              "}\n",
              "\n",
              "#sk-container-id-1 div.sk-label label.sk-toggleable__label,\n",
              "#sk-container-id-1 div.sk-label label {\n",
              "  /* The background is the default theme color */\n",
              "  color: var(--sklearn-color-text-on-default-background);\n",
              "}\n",
              "\n",
              "/* On hover, darken the color of the background */\n",
              "#sk-container-id-1 div.sk-label:hover label.sk-toggleable__label {\n",
              "  color: var(--sklearn-color-text);\n",
              "  background-color: var(--sklearn-color-unfitted-level-2);\n",
              "}\n",
              "\n",
              "/* Label box, darken color on hover, fitted */\n",
              "#sk-container-id-1 div.sk-label.fitted:hover label.sk-toggleable__label.fitted {\n",
              "  color: var(--sklearn-color-text);\n",
              "  background-color: var(--sklearn-color-fitted-level-2);\n",
              "}\n",
              "\n",
              "/* Estimator label */\n",
              "\n",
              "#sk-container-id-1 div.sk-label label {\n",
              "  font-family: monospace;\n",
              "  font-weight: bold;\n",
              "  display: inline-block;\n",
              "  line-height: 1.2em;\n",
              "}\n",
              "\n",
              "#sk-container-id-1 div.sk-label-container {\n",
              "  text-align: center;\n",
              "}\n",
              "\n",
              "/* Estimator-specific */\n",
              "#sk-container-id-1 div.sk-estimator {\n",
              "  font-family: monospace;\n",
              "  border: 1px dotted var(--sklearn-color-border-box);\n",
              "  border-radius: 0.25em;\n",
              "  box-sizing: border-box;\n",
              "  margin-bottom: 0.5em;\n",
              "  /* unfitted */\n",
              "  background-color: var(--sklearn-color-unfitted-level-0);\n",
              "}\n",
              "\n",
              "#sk-container-id-1 div.sk-estimator.fitted {\n",
              "  /* fitted */\n",
              "  background-color: var(--sklearn-color-fitted-level-0);\n",
              "}\n",
              "\n",
              "/* on hover */\n",
              "#sk-container-id-1 div.sk-estimator:hover {\n",
              "  /* unfitted */\n",
              "  background-color: var(--sklearn-color-unfitted-level-2);\n",
              "}\n",
              "\n",
              "#sk-container-id-1 div.sk-estimator.fitted:hover {\n",
              "  /* fitted */\n",
              "  background-color: var(--sklearn-color-fitted-level-2);\n",
              "}\n",
              "\n",
              "/* Specification for estimator info (e.g. \"i\" and \"?\") */\n",
              "\n",
              "/* Common style for \"i\" and \"?\" */\n",
              "\n",
              ".sk-estimator-doc-link,\n",
              "a:link.sk-estimator-doc-link,\n",
              "a:visited.sk-estimator-doc-link {\n",
              "  float: right;\n",
              "  font-size: smaller;\n",
              "  line-height: 1em;\n",
              "  font-family: monospace;\n",
              "  background-color: var(--sklearn-color-background);\n",
              "  border-radius: 1em;\n",
              "  height: 1em;\n",
              "  width: 1em;\n",
              "  text-decoration: none !important;\n",
              "  margin-left: 0.5em;\n",
              "  text-align: center;\n",
              "  /* unfitted */\n",
              "  border: var(--sklearn-color-unfitted-level-1) 1pt solid;\n",
              "  color: var(--sklearn-color-unfitted-level-1);\n",
              "}\n",
              "\n",
              ".sk-estimator-doc-link.fitted,\n",
              "a:link.sk-estimator-doc-link.fitted,\n",
              "a:visited.sk-estimator-doc-link.fitted {\n",
              "  /* fitted */\n",
              "  border: var(--sklearn-color-fitted-level-1) 1pt solid;\n",
              "  color: var(--sklearn-color-fitted-level-1);\n",
              "}\n",
              "\n",
              "/* On hover */\n",
              "div.sk-estimator:hover .sk-estimator-doc-link:hover,\n",
              ".sk-estimator-doc-link:hover,\n",
              "div.sk-label-container:hover .sk-estimator-doc-link:hover,\n",
              ".sk-estimator-doc-link:hover {\n",
              "  /* unfitted */\n",
              "  background-color: var(--sklearn-color-unfitted-level-3);\n",
              "  color: var(--sklearn-color-background);\n",
              "  text-decoration: none;\n",
              "}\n",
              "\n",
              "div.sk-estimator.fitted:hover .sk-estimator-doc-link.fitted:hover,\n",
              ".sk-estimator-doc-link.fitted:hover,\n",
              "div.sk-label-container:hover .sk-estimator-doc-link.fitted:hover,\n",
              ".sk-estimator-doc-link.fitted:hover {\n",
              "  /* fitted */\n",
              "  background-color: var(--sklearn-color-fitted-level-3);\n",
              "  color: var(--sklearn-color-background);\n",
              "  text-decoration: none;\n",
              "}\n",
              "\n",
              "/* Span, style for the box shown on hovering the info icon */\n",
              ".sk-estimator-doc-link span {\n",
              "  display: none;\n",
              "  z-index: 9999;\n",
              "  position: relative;\n",
              "  font-weight: normal;\n",
              "  right: .2ex;\n",
              "  padding: .5ex;\n",
              "  margin: .5ex;\n",
              "  width: min-content;\n",
              "  min-width: 20ex;\n",
              "  max-width: 50ex;\n",
              "  color: var(--sklearn-color-text);\n",
              "  box-shadow: 2pt 2pt 4pt #999;\n",
              "  /* unfitted */\n",
              "  background: var(--sklearn-color-unfitted-level-0);\n",
              "  border: .5pt solid var(--sklearn-color-unfitted-level-3);\n",
              "}\n",
              "\n",
              ".sk-estimator-doc-link.fitted span {\n",
              "  /* fitted */\n",
              "  background: var(--sklearn-color-fitted-level-0);\n",
              "  border: var(--sklearn-color-fitted-level-3);\n",
              "}\n",
              "\n",
              ".sk-estimator-doc-link:hover span {\n",
              "  display: block;\n",
              "}\n",
              "\n",
              "/* \"?\"-specific style due to the `<a>` HTML tag */\n",
              "\n",
              "#sk-container-id-1 a.estimator_doc_link {\n",
              "  float: right;\n",
              "  font-size: 1rem;\n",
              "  line-height: 1em;\n",
              "  font-family: monospace;\n",
              "  background-color: var(--sklearn-color-background);\n",
              "  border-radius: 1rem;\n",
              "  height: 1rem;\n",
              "  width: 1rem;\n",
              "  text-decoration: none;\n",
              "  /* unfitted */\n",
              "  color: var(--sklearn-color-unfitted-level-1);\n",
              "  border: var(--sklearn-color-unfitted-level-1) 1pt solid;\n",
              "}\n",
              "\n",
              "#sk-container-id-1 a.estimator_doc_link.fitted {\n",
              "  /* fitted */\n",
              "  border: var(--sklearn-color-fitted-level-1) 1pt solid;\n",
              "  color: var(--sklearn-color-fitted-level-1);\n",
              "}\n",
              "\n",
              "/* On hover */\n",
              "#sk-container-id-1 a.estimator_doc_link:hover {\n",
              "  /* unfitted */\n",
              "  background-color: var(--sklearn-color-unfitted-level-3);\n",
              "  color: var(--sklearn-color-background);\n",
              "  text-decoration: none;\n",
              "}\n",
              "\n",
              "#sk-container-id-1 a.estimator_doc_link.fitted:hover {\n",
              "  /* fitted */\n",
              "  background-color: var(--sklearn-color-fitted-level-3);\n",
              "}\n",
              "</style><div id=\"sk-container-id-1\" class=\"sk-top-container\"><div class=\"sk-text-repr-fallback\"><pre>KNeighborsClassifier()</pre><b>In a Jupyter environment, please rerun this cell to show the HTML representation or trust the notebook. <br />On GitHub, the HTML representation is unable to render, please try loading this page with nbviewer.org.</b></div><div class=\"sk-container\" hidden><div class=\"sk-item\"><div class=\"sk-estimator fitted sk-toggleable\"><input class=\"sk-toggleable__control sk-hidden--visually\" id=\"sk-estimator-id-1\" type=\"checkbox\" checked><label for=\"sk-estimator-id-1\" class=\"sk-toggleable__label fitted sk-toggleable__label-arrow\"><div><div>KNeighborsClassifier</div></div><div><a class=\"sk-estimator-doc-link fitted\" rel=\"noreferrer\" target=\"_blank\" href=\"https://scikit-learn.org/1.6/modules/generated/sklearn.neighbors.KNeighborsClassifier.html\">?<span>Documentation for KNeighborsClassifier</span></a><span class=\"sk-estimator-doc-link fitted\">i<span>Fitted</span></span></div></label><div class=\"sk-toggleable__content fitted\"><pre>KNeighborsClassifier()</pre></div> </div></div></div></div>"
            ]
          },
          "metadata": {},
          "execution_count": 15
        }
      ]
    },
    {
      "cell_type": "code",
      "source": [
        "y_prediksi = classifier.predict(x_tes)"
      ],
      "metadata": {
        "id": "VbijvXpoBVSn"
      },
      "execution_count": 16,
      "outputs": []
    },
    {
      "cell_type": "code",
      "source": [
        "from sklearn.metrics import confusion_matrix\n",
        "hasil_cm = confusion_matrix(y_tes, y_prediksi)\n",
        "print(hasil_cm)"
      ],
      "metadata": {
        "colab": {
          "base_uri": "https://localhost:8080/"
        },
        "id": "XhJgm7QDBgUe",
        "outputId": "f1bfa2e7-dbc1-429c-e2ca-6f757366e244"
      },
      "execution_count": 17,
      "outputs": [
        {
          "output_type": "stream",
          "name": "stdout",
          "text": [
            "[[13  9]\n",
            " [ 8  8]]\n"
          ]
        }
      ]
    },
    {
      "cell_type": "code",
      "source": [
        "from sklearn.metrics import accuracy_score # melakukan evaluasi dengan accuracy score\n",
        "print(accuracy_score(y_tes, y_prediksi))\n",
        "print(\"Tingkat akurasi:\", accuracy_score(y_tes, y_prediksi) * 100, \"%\")"
      ],
      "metadata": {
        "colab": {
          "base_uri": "https://localhost:8080/"
        },
        "id": "9PFP1LhuBpY5",
        "outputId": "cd467075-3601-41a5-9232-1808ea2f6266"
      },
      "execution_count": 19,
      "outputs": [
        {
          "output_type": "stream",
          "name": "stdout",
          "text": [
            "0.5526315789473685\n",
            "Tingkat akurasi: 55.26315789473685 %\n"
          ]
        }
      ]
    },
    {
      "cell_type": "code",
      "source": [
        "from matplotlib.colors import ListedColormap\n",
        "x_data, y_data = x_latih, y_latih\n",
        "x_one, x_two = np.meshgrid(np.arange(start=x_data[:, 0].min() - 1, stop=x_data[:, 0].max() + 1, step=0.01),\n",
        "                           np.arange(start=x_data[:, 1].min() - 1, stop=x_data[:, 1].max() + 1, step=0.01))\n",
        "plt.contourf(x_one, x_two, classifier.predict(np.array([x_one.ravel(), x_two.ravel()]).T).reshape(x_one.shape),\n",
        "             alpha=0.75, cmap=ListedColormap(('red', 'green')))\n",
        "plt.xlim(x_one.min(), x_one.max())\n",
        "plt.ylim(x_two.min(), x_two.max())\n",
        "for g, h in enumerate(np.unique(y_tes)):\n",
        "    plt.scatter(x_data[y_data == h, 0], x_data[y_data == h, 1], c=ListedColormap(('red', 'green'))(g), label=h)\n",
        "plt.title('K-NN (Data Latih)')\n",
        "plt.xlabel('Tahun Produksi')\n",
        "plt.ylabel('Kilometer')\n",
        "plt.legend()\n",
        "plt.show()"
      ],
      "metadata": {
        "colab": {
          "base_uri": "https://localhost:8080/",
          "height": 527
        },
        "id": "_jMeQoibB5Z8",
        "outputId": "01ab86d2-f922-4f6d-83ad-06b4d3e86cb1"
      },
      "execution_count": 21,
      "outputs": [
        {
          "output_type": "stream",
          "name": "stderr",
          "text": [
            "<ipython-input-21-1abbe0cdfdb6>:10: UserWarning: *c* argument looks like a single numeric RGB or RGBA sequence, which should be avoided as value-mapping will have precedence in case its length matches with *x* & *y*.  Please use the *color* keyword-argument or provide a 2D array with a single row if you intend to specify the same RGB or RGBA value for all points.\n",
            "  plt.scatter(x_data[y_data == h, 0], x_data[y_data == h, 1], c=ListedColormap(('red', 'green'))(g), label=h)\n"
          ]
        },
        {
          "output_type": "display_data",
          "data": {
            "text/plain": [
              "<Figure size 640x480 with 1 Axes>"
            ],
            "image/png": "[encoded data removed]"
          },
          "metadata": {}
        }
      ]
    },
    {
      "cell_type": "code",
      "source": [
        "from matplotlib.colors import ListedColormap\n",
        "x_data, y_data = x_tes, y_tes\n",
        "x_one, x_two = np.meshgrid(np.arange(start=x_data[:, 0].min() - 1, stop=x_data[:, 0].max() + 1, step=0.01),\n",
        "                           np.arange(start=x_data[:, 1].min() - 1, stop=x_data[:, 1].max() + 1, step=0.01))\n",
        "plt.contourf(x_one, x_two, classifier.predict(np.array([x_one.ravel(), x_two.ravel()]).T).reshape(x_one.shape),\n",
        "             alpha=0.75, cmap=ListedColormap(('red', 'green')))\n",
        "plt.xlim(x_one.min(), x_one.max())\n",
        "plt.ylim(x_two.min(), x_two.max())\n",
        "for g, h in enumerate(np.unique(y_tes)):\n",
        "    plt.scatter(x_data[y_data == h, 0], x_data[y_data == h, 1], c=ListedColormap(('red', 'green'))(g), label=h)\n",
        "plt.title('K-NN (Data Tes)')\n",
        "plt.xlabel('Tahun Produksi')\n",
        "plt.ylabel('Kilometer')\n",
        "plt.legend()\n",
        "plt.show()"
      ],
      "metadata": {
        "colab": {
          "base_uri": "https://localhost:8080/",
          "height": 527
        },
        "id": "NY2UuHVdCMUv",
        "outputId": "b66d0184-2b30-4906-e3a9-2c7188fd4e54"
      },
      "execution_count": 22,
      "outputs": [
        {
          "output_type": "stream",
          "name": "stderr",
          "text": [
            "<ipython-input-22-3174d0ecf387>:10: UserWarning: *c* argument looks like a single numeric RGB or RGBA sequence, which should be avoided as value-mapping will have precedence in case its length matches with *x* & *y*.  Please use the *color* keyword-argument or provide a 2D array with a single row if you intend to specify the same RGB or RGBA value for all points.\n",
            "  plt.scatter(x_data[y_data == h, 0], x_data[y_data == h, 1], c=ListedColormap(('red', 'green'))(g), label=h)\n"
          ]
        },
        {
          "output_type": "display_data",
          "data": {
            "text/plain": [
              "<Figure size 640x480 with 1 Axes>"
            ],
            "image/png": "[encoded data removed]"
          },
          "metadata": {}
        }
      ]
    }
  ]
}